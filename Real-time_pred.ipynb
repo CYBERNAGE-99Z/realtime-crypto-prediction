{
 "cells": [
  {
   "cell_type": "markdown",
   "id": "d12c7d30",
   "metadata": {},
   "source": [
    "## Real-Time Prediction (with CoinGecko API)"
   ]
  },
  {
   "cell_type": "code",
   "execution_count": 1,
   "id": "77461df2",
   "metadata": {},
   "outputs": [
    {
     "name": "stderr",
     "output_type": "stream",
     "text": [
      "C:\\Users\\amban\\AppData\\Roaming\\Python\\Python39\\site-packages\\pandas\\core\\computation\\expressions.py:21: UserWarning: Pandas requires version '2.8.4' or newer of 'numexpr' (version '2.8.3' currently installed).\n",
      "  from pandas.core.computation.check import NUMEXPR_INSTALLED\n",
      "C:\\Users\\amban\\AppData\\Roaming\\Python\\Python39\\site-packages\\pandas\\core\\arrays\\masked.py:60: UserWarning: Pandas requires version '1.3.6' or newer of 'bottleneck' (version '1.3.5' currently installed).\n",
      "  from pandas.core import (\n"
     ]
    },
    {
     "name": "stdout",
     "output_type": "stream",
     "text": [
      "✅ Trained pipeline loaded successfully!\n",
      "📥 Live data fetched. Latest price: 0.26814264039558566\n",
      "\n",
      "📊 Real-Time Prediction Summary\n",
      "----------------------------------------\n",
      "🕒 Timestamp          : 2025-09-16 20:48:29\n",
      "💰 Last Observed Price: $0.2681\n",
      "📈 Predicted Return   : 26.80%\n",
      "🔮 Predicted Next Price: $0.3400\n",
      "----------------------------------------\n"
     ]
    }
   ],
   "source": [
    "import requests\n",
    "import pandas as pd\n",
    "import joblib\n",
    "from datetime import datetime\n",
    "\n",
    "# ------------------------------\n",
    "# 1. Load trained pipeline\n",
    "# ------------------------------\n",
    "pipeline = joblib.load(\"trained_pipeline.pkl\")\n",
    "print(\"✅ Trained pipeline loaded successfully!\")\n",
    "\n",
    "# ------------------------------\n",
    "# 2. Fetch live price data from CoinGecko\n",
    "# ------------------------------\n",
    "def fetch_live_data(coin_id=\"dogecoin\", vs_currency=\"usd\", days=30):\n",
    "    \"\"\"\n",
    "    Fetch last N days of historical data for the given coin.\n",
    "    (CoinGecko automatically gives hourly data if days <= 90)\n",
    "    \"\"\"\n",
    "    url = f\"https://api.coingecko.com/api/v3/coins/{coin_id}/market_chart\"\n",
    "    params = {\"vs_currency\": vs_currency, \"days\": days}\n",
    "    response = requests.get(url, params=params)\n",
    "\n",
    "    if response.status_code != 200:\n",
    "        raise Exception(f\"Error fetching data: {response.text}\")\n",
    "\n",
    "    data = response.json()\n",
    "\n",
    "    # Prices are [timestamp, price]\n",
    "    prices = data[\"prices\"]\n",
    "    df = pd.DataFrame(prices, columns=[\"timestamp\", \"price\"])\n",
    "    df[\"timestamp\"] = pd.to_datetime(df[\"timestamp\"], unit=\"ms\")\n",
    "    return df\n",
    "\n",
    "\n",
    "df_live = fetch_live_data(\"dogecoin\", \"usd\", days=30)\n",
    "print(\"📥 Live data fetched. Latest price:\", df_live['price'].iloc[-1])\n",
    "\n",
    "# ------------------------------\n",
    "# 3. Feature Engineering (same as training)\n",
    "# ------------------------------\n",
    "def create_features(df):\n",
    "    df = df.copy()\n",
    "    df[\"lag_1\"] = df[\"price\"].shift(1)\n",
    "    df[\"lag_2\"] = df[\"price\"].shift(2)\n",
    "    df[\"lag_3\"] = df[\"price\"].shift(3)\n",
    "    df[\"return_1\"] = df[\"price\"].pct_change(1)\n",
    "    df[\"return_3\"] = df[\"price\"].pct_change(3)\n",
    "    df[\"rolling_mean_3\"] = df[\"price\"].rolling(window=3).mean()\n",
    "    df[\"rolling_std_3\"] = df[\"price\"].rolling(window=3).std()\n",
    "    df[\"rolling_mean_7\"] = df[\"price\"].rolling(window=7).mean()\n",
    "    df[\"rolling_std_7\"] = df[\"price\"].rolling(window=7).std()\n",
    "    df = df.dropna()\n",
    "    return df\n",
    "\n",
    "df_feat = create_features(df_live)\n",
    "\n",
    "# ------------------------------\n",
    "# 4. Make a prediction\n",
    "# ------------------------------\n",
    "def predict_next_price(df, pipeline):\n",
    "    latest = df.iloc[-1:]   # take last row with all features\n",
    "    pred_return = pipeline.predict(latest.drop(columns=[\"timestamp\", \"price\"]))[0]\n",
    "    \n",
    "    last_price = latest[\"price\"].iloc[0]\n",
    "    predicted_price = last_price * (1 + pred_return)\n",
    "\n",
    "    print(\"\\n📊 Real-Time Prediction Summary\")\n",
    "    print(\"-\" * 40)\n",
    "    print(f\"🕒 Timestamp          : {latest['timestamp'].iloc[0]}\")\n",
    "    print(f\"💰 Last Observed Price: ${last_price:.4f}\")\n",
    "    print(f\"📈 Predicted Return   : {pred_return*100:.2f}%\")\n",
    "    print(f\"🔮 Predicted Next Price: ${predicted_price:.4f}\")\n",
    "    print(\"-\" * 40)\n",
    "\n",
    "    return {\n",
    "        \"timestamp\": latest[\"timestamp\"].iloc[0],\n",
    "        \"last_price\": last_price,\n",
    "        \"predicted_return\": pred_return,\n",
    "        \"predicted_price\": predicted_price\n",
    "    }\n",
    "\n",
    "results = predict_next_price(df_feat, pipeline)\n"
   ]
  },
  {
   "cell_type": "code",
   "execution_count": null,
   "id": "47418adb",
   "metadata": {},
   "outputs": [],
   "source": []
  }
 ],
 "metadata": {
  "kernelspec": {
   "display_name": "base",
   "language": "python",
   "name": "python3"
  },
  "language_info": {
   "codemirror_mode": {
    "name": "ipython",
    "version": 3
   },
   "file_extension": ".py",
   "mimetype": "text/x-python",
   "name": "python",
   "nbconvert_exporter": "python",
   "pygments_lexer": "ipython3",
   "version": "3.9.13"
  }
 },
 "nbformat": 4,
 "nbformat_minor": 5
}
